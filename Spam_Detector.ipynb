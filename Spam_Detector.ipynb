{
  "nbformat": 4,
  "nbformat_minor": 0,
  "metadata": {
    "colab": {
      "name": "Spam_Detector.ipynb",
      "provenance": []
    },
    "kernelspec": {
      "name": "python3",
      "display_name": "Python 3"
    }
  },
  "cells": [
    {
      "cell_type": "code",
      "metadata": {
        "id": "STZNo519SyzR",
        "colab_type": "code",
        "colab": {}
      },
      "source": [
        "##This block is only for access of files using google drive\n",
        "from pydrive.auth import GoogleAuth\n",
        "from pydrive.drive import GoogleDrive\n",
        "from google.colab import auth\n",
        "from oauth2client.client import GoogleCredentials\n",
        "auth.authenticate_user()\n",
        "gauth = GoogleAuth()\n",
        "gauth.credentials = GoogleCredentials.get_application_default()\n",
        "drive = GoogleDrive(gauth)\n",
        "\n",
        "#For accessing any file from google drive, first share it for public access. Copy its id from last part of its address. Then specify the two lines below.\n",
        "downloaded = drive.CreateFile({'id':\"11udsdq6pPymfbAE213Zfry14SgD0QOQl\"})   # replace the id with id of file you want to access\n",
        "downloaded.GetContentFile('spam.csv')        # replace the file name with your file\n"
      ],
      "execution_count": 0,
      "outputs": []
    },
    {
      "cell_type": "code",
      "metadata": {
        "id": "eSyKzKCjm4Ua",
        "colab_type": "code",
        "outputId": "047f972a-b5ee-4df2-bf7a-0b80c6857c25",
        "colab": {
          "base_uri": "https://localhost:8080/",
          "height": 195
        }
      },
      "source": [
        "import pandas as pd\n",
        "import numpy as np\n",
        "import string\n",
        "\n",
        "#import the data file\n",
        "filename = 'spam.csv' \n",
        "\n",
        "df_sms = pd.read_csv('spam.csv',encoding='latin-1')\n",
        "df_sms.head()"
      ],
      "execution_count": 3,
      "outputs": [
        {
          "output_type": "execute_result",
          "data": {
            "text/html": [
              "<div>\n",
              "<style scoped>\n",
              "    .dataframe tbody tr th:only-of-type {\n",
              "        vertical-align: middle;\n",
              "    }\n",
              "\n",
              "    .dataframe tbody tr th {\n",
              "        vertical-align: top;\n",
              "    }\n",
              "\n",
              "    .dataframe thead th {\n",
              "        text-align: right;\n",
              "    }\n",
              "</style>\n",
              "<table border=\"1\" class=\"dataframe\">\n",
              "  <thead>\n",
              "    <tr style=\"text-align: right;\">\n",
              "      <th></th>\n",
              "      <th>v1</th>\n",
              "      <th>v2</th>\n",
              "      <th>Unnamed: 2</th>\n",
              "      <th>Unnamed: 3</th>\n",
              "      <th>Unnamed: 4</th>\n",
              "    </tr>\n",
              "  </thead>\n",
              "  <tbody>\n",
              "    <tr>\n",
              "      <th>0</th>\n",
              "      <td>ham</td>\n",
              "      <td>Go until jurong point, crazy.. Available only ...</td>\n",
              "      <td>NaN</td>\n",
              "      <td>NaN</td>\n",
              "      <td>NaN</td>\n",
              "    </tr>\n",
              "    <tr>\n",
              "      <th>1</th>\n",
              "      <td>ham</td>\n",
              "      <td>Ok lar... Joking wif u oni...</td>\n",
              "      <td>NaN</td>\n",
              "      <td>NaN</td>\n",
              "      <td>NaN</td>\n",
              "    </tr>\n",
              "    <tr>\n",
              "      <th>2</th>\n",
              "      <td>spam</td>\n",
              "      <td>Free entry in 2 a wkly comp to win FA Cup fina...</td>\n",
              "      <td>NaN</td>\n",
              "      <td>NaN</td>\n",
              "      <td>NaN</td>\n",
              "    </tr>\n",
              "    <tr>\n",
              "      <th>3</th>\n",
              "      <td>ham</td>\n",
              "      <td>U dun say so early hor... U c already then say...</td>\n",
              "      <td>NaN</td>\n",
              "      <td>NaN</td>\n",
              "      <td>NaN</td>\n",
              "    </tr>\n",
              "    <tr>\n",
              "      <th>4</th>\n",
              "      <td>ham</td>\n",
              "      <td>Nah I don't think he goes to usf, he lives aro...</td>\n",
              "      <td>NaN</td>\n",
              "      <td>NaN</td>\n",
              "      <td>NaN</td>\n",
              "    </tr>\n",
              "  </tbody>\n",
              "</table>\n",
              "</div>"
            ],
            "text/plain": [
              "     v1  ... Unnamed: 4\n",
              "0   ham  ...        NaN\n",
              "1   ham  ...        NaN\n",
              "2  spam  ...        NaN\n",
              "3   ham  ...        NaN\n",
              "4   ham  ...        NaN\n",
              "\n",
              "[5 rows x 5 columns]"
            ]
          },
          "metadata": {
            "tags": []
          },
          "execution_count": 3
        }
      ]
    },
    {
      "cell_type": "code",
      "metadata": {
        "id": "LW6RB7oc4MrT",
        "colab_type": "code",
        "outputId": "7baaa3f6-3fe2-4a03-f8c2-92ab4e94124a",
        "colab": {
          "base_uri": "https://localhost:8080/",
          "height": 195
        }
      },
      "source": [
        "#Remove the unwanted columns\n",
        "df_sms = df_sms.drop([\"Unnamed: 2\", \"Unnamed: 3\", \"Unnamed: 4\"], axis=1)\n",
        "df_sms = df_sms.rename(columns={\"v1\":\"label\", \"v2\":\"sms\"})\n",
        "df_sms.head()"
      ],
      "execution_count": 4,
      "outputs": [
        {
          "output_type": "execute_result",
          "data": {
            "text/html": [
              "<div>\n",
              "<style scoped>\n",
              "    .dataframe tbody tr th:only-of-type {\n",
              "        vertical-align: middle;\n",
              "    }\n",
              "\n",
              "    .dataframe tbody tr th {\n",
              "        vertical-align: top;\n",
              "    }\n",
              "\n",
              "    .dataframe thead th {\n",
              "        text-align: right;\n",
              "    }\n",
              "</style>\n",
              "<table border=\"1\" class=\"dataframe\">\n",
              "  <thead>\n",
              "    <tr style=\"text-align: right;\">\n",
              "      <th></th>\n",
              "      <th>label</th>\n",
              "      <th>sms</th>\n",
              "    </tr>\n",
              "  </thead>\n",
              "  <tbody>\n",
              "    <tr>\n",
              "      <th>0</th>\n",
              "      <td>ham</td>\n",
              "      <td>Go until jurong point, crazy.. Available only ...</td>\n",
              "    </tr>\n",
              "    <tr>\n",
              "      <th>1</th>\n",
              "      <td>ham</td>\n",
              "      <td>Ok lar... Joking wif u oni...</td>\n",
              "    </tr>\n",
              "    <tr>\n",
              "      <th>2</th>\n",
              "      <td>spam</td>\n",
              "      <td>Free entry in 2 a wkly comp to win FA Cup fina...</td>\n",
              "    </tr>\n",
              "    <tr>\n",
              "      <th>3</th>\n",
              "      <td>ham</td>\n",
              "      <td>U dun say so early hor... U c already then say...</td>\n",
              "    </tr>\n",
              "    <tr>\n",
              "      <th>4</th>\n",
              "      <td>ham</td>\n",
              "      <td>Nah I don't think he goes to usf, he lives aro...</td>\n",
              "    </tr>\n",
              "  </tbody>\n",
              "</table>\n",
              "</div>"
            ],
            "text/plain": [
              "  label                                                sms\n",
              "0   ham  Go until jurong point, crazy.. Available only ...\n",
              "1   ham                      Ok lar... Joking wif u oni...\n",
              "2  spam  Free entry in 2 a wkly comp to win FA Cup fina...\n",
              "3   ham  U dun say so early hor... U c already then say...\n",
              "4   ham  Nah I don't think he goes to usf, he lives aro..."
            ]
          },
          "metadata": {
            "tags": []
          },
          "execution_count": 4
        }
      ]
    },
    {
      "cell_type": "code",
      "metadata": {
        "id": "-vzwvxEwnJkm",
        "colab_type": "code",
        "outputId": "f80debb4-e4f3-4a01-9ca2-f22883cb6130",
        "colab": {
          "base_uri": "https://localhost:8080/",
          "height": 235
        }
      },
      "source": [
        "#Print number of records\n",
        "L = len(df_sms)\n",
        "print(L)\n",
        "#Example of accessing a column in pandas dataframe\n",
        "df_sms.sms"
      ],
      "execution_count": 7,
      "outputs": [
        {
          "output_type": "stream",
          "text": [
            "5572\n"
          ],
          "name": "stdout"
        },
        {
          "output_type": "execute_result",
          "data": {
            "text/plain": [
              "0       Go until jurong point, crazy.. Available only ...\n",
              "1                           Ok lar... Joking wif u oni...\n",
              "2       Free entry in 2 a wkly comp to win FA Cup fina...\n",
              "3       U dun say so early hor... U c already then say...\n",
              "4       Nah I don't think he goes to usf, he lives aro...\n",
              "                              ...                        \n",
              "5567    This is the 2nd time we have tried 2 contact u...\n",
              "5568                Will Ì_ b going to esplanade fr home?\n",
              "5569    Pity, * was in mood for that. So...any other s...\n",
              "5570    The guy did some bitching but I acted like i'd...\n",
              "5571                           Rofl. Its true to its name\n",
              "Name: sms, Length: 5572, dtype: object"
            ]
          },
          "metadata": {
            "tags": []
          },
          "execution_count": 7
        }
      ]
    },
    {
      "cell_type": "code",
      "metadata": {
        "id": "RuqTmBxar3HG",
        "colab_type": "code",
        "colab": {}
      },
      "source": [
        "#Define a Function to convert sms text to Lower case and remove stop words, punctuation and numbers\n",
        "\n",
        "def preprocess_Text(input_Text):\n",
        "  input_Text = input_Text.lower();\n",
        "  stopwords = ['the','what','is','a','an','of', 'that']\n",
        "  querywords = input_Text.split()\n",
        "\n",
        "  resultwords  = [word for word in querywords if word not in stopwords]\n",
        "  result = ' '.join(resultwords)\n",
        "\n",
        "  exclude = set(string.punctuation)\n",
        "  result = ''.join(ch for ch in result if ch not in exclude)\n",
        "\n",
        "  exclude = set('0123456789')\n",
        "  result = ''.join(ch for ch in result if ch not in exclude)\n",
        "\n",
        "  return result;\n",
        "  "
      ],
      "execution_count": 0,
      "outputs": []
    },
    {
      "cell_type": "code",
      "metadata": {
        "id": "2lkUSZQhwkDX",
        "colab_type": "code",
        "outputId": "8ef029a4-5d71-4d4e-a834-c2338b1862f4",
        "colab": {
          "base_uri": "https://localhost:8080/",
          "height": 34
        }
      },
      "source": [
        "#Test the preprocessing funtion\n",
        "preprocess_Text('Hello, where4 is he.')"
      ],
      "execution_count": 9,
      "outputs": [
        {
          "output_type": "execute_result",
          "data": {
            "text/plain": [
              "'hello where he'"
            ]
          },
          "metadata": {
            "tags": []
          },
          "execution_count": 9
        }
      ]
    },
    {
      "cell_type": "code",
      "metadata": {
        "id": "hqBXGLIdwsOA",
        "colab_type": "code",
        "colab": {}
      },
      "source": [
        "#Preprocess all the sms texts\n",
        "L = len(df_sms)\n",
        "for i in range(0,L-1):\n",
        "  df_sms['sms'][i] = preprocess_Text(df_sms['sms'][i])"
      ],
      "execution_count": 0,
      "outputs": []
    },
    {
      "cell_type": "code",
      "metadata": {
        "id": "3lFtxUJzxkKy",
        "colab_type": "code",
        "outputId": "4fea4837-1170-4a20-e4df-19c7f2861854",
        "colab": {
          "base_uri": "https://localhost:8080/",
          "height": 34
        }
      },
      "source": [
        "#check if preprocessing was applied correctly by looking at any sms\n",
        "df_sms['sms'][5]"
      ],
      "execution_count": 11,
      "outputs": [
        {
          "output_type": "execute_result",
          "metadata": {
            "tags": []
          },
          "execution_count": 11
        }
      ]
    },
    {
      "cell_type": "code",
      "metadata": {
        "id": "_BiA49eB44Zp",
        "colab_type": "code",
        "colab": {}
      },
      "source": [
        "#Divide the dataframes into training and and testing set\n",
        "from sklearn.utils import shuffle\n",
        "df_sms = shuffle(df_sms)\n",
        "training_Subset = df_sms.iloc[:round(len(df_sms)*0.9),:]   #90% data into training\n",
        "test_Subset = df_sms.iloc[round(len(df_sms)*0.9):,:]       #10% data into testing\n",
        "spam_Subset = training_Subset.query('label == \"spam\"')\n",
        "ham_Subset = training_Subset.query('label == \"ham\"');"
      ],
      "execution_count": 0,
      "outputs": []
    },
    {
      "cell_type": "code",
      "metadata": {
        "id": "bL2bYLgL7mOo",
        "colab_type": "code",
        "outputId": "a8881cdd-d37f-422d-c149-e2909020a82b",
        "colab": {
          "base_uri": "https://localhost:8080/",
          "height": 34
        }
      },
      "source": [
        "training_Subset['sms'][37]"
      ],
      "execution_count": 13,
      "outputs": [
        {
          "output_type": "execute_result",
          "data": {
            "text/plain": [
              "'i see letter b on my car'"
            ]
          },
          "metadata": {
            "tags": []
          },
          "execution_count": 13
        }
      ]
    },
    {
      "cell_type": "code",
      "metadata": {
        "id": "7SVTJe508oa1",
        "colab_type": "code",
        "colab": {}
      },
      "source": [
        "#combine all text into one large paragraph which shall be used to list unique words\n",
        "L = len(training_Subset);\n",
        "all_Text = \"\"\n",
        "for i in training_Subset.index:\n",
        "  all_Text = all_Text + \" \"+training_Subset['sms'][i];\n"
      ],
      "execution_count": 0,
      "outputs": []
    },
    {
      "cell_type": "code",
      "metadata": {
        "id": "sN4xY8G1mk-0",
        "colab_type": "code",
        "outputId": "e663d890-fae0-4fdf-97a9-47c3a132a060",
        "colab": {
          "base_uri": "https://localhost:8080/",
          "height": 54
        }
      },
      "source": [
        "all_Text"
      ],
      "execution_count": 15,
      "outputs": [
        {
          "output_type": "execute_result",
          "metadata": {
            "tags": []
          },
          "execution_count": 15
        }
      ]
    },
    {
      "cell_type": "code",
      "metadata": {
        "id": "opgO89dWrv-J",
        "colab_type": "code",
        "outputId": "f0ab69d2-661c-48ca-c394-a31d57952a9c",
        "colab": {
          "base_uri": "https://localhost:8080/",
          "height": 54
        }
      },
      "source": [
        "#make a table with all unique words\n",
        "allWords = all_Text.split()\n",
        "\n",
        "row_Names = [] \n",
        "for i in allWords:\n",
        "      if not i in row_Names:\n",
        "          row_Names.append(i);\n",
        "print(row_Names)"
      ],
      "execution_count": 16,
      "cell_type": "code",
      "metadata": {
        "id": "XEBQrXittb90",
        "colab_type": "code",
        "colab": {}
      },
      "source": [
        "#For each word find inspam probability and in-ham probability\n",
        "word = '';\n",
        "inSpamCount = 0;\n",
        "inHamCount = 0;\n",
        "columns = ['inSpamProbability','inHamProbability']\n",
        "probability_Table = pd.DataFrame(index=row_Names, columns=columns)\n",
        "for word in row_Names:\n",
        "  inSpamCount = 0;\n",
        "  inHamCount = 0;\n",
        "  for i in spam_Subset['sms']:\n",
        "    if(i.find(word)==0):\n",
        "      inSpamCount = inSpamCount+1;\n",
        "  for i in ham_Subset['sms']:\n",
        "    if(i.find(word)==0):\n",
        "      inHamCount = inHamCount+1;\n",
        "  probability_Table.at[word, 'inSpamProbability'] = inSpamCount/len(spam_Subset);\n",
        "  probability_Table.at[word,'inHamProbability'] = inHamCount/len(ham_Subset);\n"
      ],
      "execution_count": 0,
      "outputs": []
    },
    {
      "cell_type": "code",
      "metadata": {
        "id": "F0VgAkvwtjx2",
        "colab_type": "code",
        "colab": {}
      },
      "source": [
        "probability_Table.sort_values(\"inSpamProbability\", axis = 0, ascending = False, \n",
        "                 inplace = True, na_position ='first') "
      ],
      "execution_count": 0,
      "outputs": []
    },
    {
      "cell_type": "code",
      "metadata": {
        "id": "qhPd4N3BvOFb",
        "colab_type": "code",
        "outputId": "499d9499-b1ca-4d1a-d761-8d6a57720730",
        "colab": {
          "base_uri": "https://localhost:8080/",
          "height": 402
        }
      },
      "source": [
        "probability_Table"
      ],
      "execution_count": 20,
      "outputs": [
        {
          "output_type": "execute_result",
          "data": {
            "text/html": [
              "<div>\n",
              "<style scoped>\n",
              "    .dataframe tbody tr th:only-of-type {\n",
              "        vertical-align: middle;\n",
              "    }\n",
              "\n",
              "    .dataframe tbody tr th {\n",
              "        vertical-align: top;\n",
              "    }\n",
              "\n",
              "    .dataframe thead th {\n",
              "        text-align: right;\n",
              "    }\n",
              "</style>\n",
              "<table border=\"1\" class=\"dataframe\">\n",
              "  <thead>\n",
              "    <tr style=\"text-align: right;\">\n",
              "      <th></th>\n",
              "      <th>inSpamProbability</th>\n",
              "      <th>inHamProbability</th>\n",
              "    </tr>\n",
              "  </thead>\n",
              "  <tbody>\n",
              "    <tr>\n",
              "      <th>u</th>\n",
              "      <td>0.124814</td>\n",
              "      <td>0.0198065</td>\n",
              "    </tr>\n",
              "    <tr>\n",
              "      <th>f</th>\n",
              "      <td>0.10847</td>\n",
              "      <td>0.0128973</td>\n",
              "    </tr>\n",
              "    <tr>\n",
              "      <th>ur</th>\n",
              "      <td>0.0936107</td>\n",
              "      <td>0.00138185</td>\n",
              "    </tr>\n",
              "    <tr>\n",
              "      <th>fr</th>\n",
              "      <td>0.0832095</td>\n",
              "      <td>0.0027637</td>\n",
              "    </tr>\n",
              "    <tr>\n",
              "      <th>y</th>\n",
              "      <td>0.0802377</td>\n",
              "      <td>0.0690926</td>\n",
              "    </tr>\n",
              "    <tr>\n",
              "      <th>...</th>\n",
              "      <td>...</td>\n",
              "      <td>...</td>\n",
              "    </tr>\n",
              "    <tr>\n",
              "      <th>english</th>\n",
              "      <td>0</td>\n",
              "      <td>0</td>\n",
              "    </tr>\n",
              "    <tr>\n",
              "      <th>apart</th>\n",
              "      <td>0</td>\n",
              "      <td>0.000230309</td>\n",
              "    </tr>\n",
              "    <tr>\n",
              "      <th>teju</th>\n",
              "      <td>0</td>\n",
              "      <td>0</td>\n",
              "    </tr>\n",
              "    <tr>\n",
              "      <th>iq</th>\n",
              "      <td>0</td>\n",
              "      <td>0</td>\n",
              "    </tr>\n",
              "    <tr>\n",
              "      <th>mph</th>\n",
              "      <td>0</td>\n",
              "      <td>0</td>\n",
              "    </tr>\n",
              "  </tbody>\n",
              "</table>\n",
              "<p>8050 rows × 2 columns</p>\n",
              "</div>"
            ],
            "text/plain": [
              "        inSpamProbability inHamProbability\n",
              "u                0.124814        0.0198065\n",
              "f                 0.10847        0.0128973\n",
              "ur              0.0936107       0.00138185\n",
              "fr              0.0832095        0.0027637\n",
              "y               0.0802377        0.0690926\n",
              "...                   ...              ...\n",
              "english                 0                0\n",
              "apart                   0      0.000230309\n",
              "teju                    0                0\n",
              "iq                      0                0\n",
              "mph                     0                0\n",
              "\n",
              "[8050 rows x 2 columns]"
            ]
          },
          "metadata": {
            "tags": []
          },
          "execution_count": 20
        }
      ]
    },
    {
      "cell_type": "code",
      "metadata": {
        "id": "G2x6ENbyx2-D",
        "colab_type": "code",
        "colab": {}
      },
      "source": [
        "#drop rows wherever spam or ham is zero probability\n",
        "probability_Table = probability_Table[(probability_Table[['inSpamProbability','inHamProbability']] != 0).all(axis=1)]"
      ],
      "execution_count": 0,
      "outputs": []
    },
    {
      "cell_type": "code",
      "metadata": {
        "id": "jT6eHqooBKmP",
        "colab_type": "code",
        "outputId": "ecd3b528-4a1a-4e82-83d6-7ff746fdf023",
        "colab": {
          "base_uri": "https://localhost:8080/",
          "height": 402
        }
      },
      "source": [
        "probability_Table"
      ],
      "execution_count": 22,
      "outputs": [
        {
          "output_type": "execute_result",
          "data": {
            "text/html": [
              "<div>\n",
              "<style scoped>\n",
              "    .dataframe tbody tr th:only-of-type {\n",
              "        vertical-align: middle;\n",
              "    }\n",
              "\n",
              "    .dataframe tbody tr th {\n",
              "        vertical-align: top;\n",
              "    }\n",
              "\n",
              "    .dataframe thead th {\n",
              "        text-align: right;\n",
              "    }\n",
              "</style>\n",
              "<table border=\"1\" class=\"dataframe\">\n",
              "  <thead>\n",
              "    <tr style=\"text-align: right;\">\n",
              "      <th></th>\n",
              "      <th>inSpamProbability</th>\n",
              "      <th>inHamProbability</th>\n",
              "    </tr>\n",
              "  </thead>\n",
              "  <tbody>\n",
              "    <tr>\n",
              "      <th>u</th>\n",
              "      <td>0.124814</td>\n",
              "      <td>0.0198065</td>\n",
              "    </tr>\n",
              "    <tr>\n",
              "      <th>f</th>\n",
              "      <td>0.10847</td>\n",
              "      <td>0.0128973</td>\n",
              "    </tr>\n",
              "    <tr>\n",
              "      <th>ur</th>\n",
              "      <td>0.0936107</td>\n",
              "      <td>0.00138185</td>\n",
              "    </tr>\n",
              "    <tr>\n",
              "      <th>fr</th>\n",
              "      <td>0.0832095</td>\n",
              "      <td>0.0027637</td>\n",
              "    </tr>\n",
              "    <tr>\n",
              "      <th>y</th>\n",
              "      <td>0.0802377</td>\n",
              "      <td>0.0690926</td>\n",
              "    </tr>\n",
              "    <tr>\n",
              "      <th>...</th>\n",
              "      <td>...</td>\n",
              "      <td>...</td>\n",
              "    </tr>\n",
              "    <tr>\n",
              "      <th>big</th>\n",
              "      <td>0.00148588</td>\n",
              "      <td>0.000230309</td>\n",
              "    </tr>\n",
              "    <tr>\n",
              "      <th>comp</th>\n",
              "      <td>0.00148588</td>\n",
              "      <td>0.000690926</td>\n",
              "    </tr>\n",
              "    <tr>\n",
              "      <th>upd</th>\n",
              "      <td>0.00148588</td>\n",
              "      <td>0.000230309</td>\n",
              "    </tr>\n",
              "    <tr>\n",
              "      <th>pa</th>\n",
              "      <td>0.00148588</td>\n",
              "      <td>0.00161216</td>\n",
              "    </tr>\n",
              "    <tr>\n",
              "      <th>would</th>\n",
              "      <td>0.00148588</td>\n",
              "      <td>0.000921234</td>\n",
              "    </tr>\n",
              "  </tbody>\n",
              "</table>\n",
              "<p>208 rows × 2 columns</p>\n",
              "</div>"
            ],
            "text/plain": [
              "      inSpamProbability inHamProbability\n",
              "u              0.124814        0.0198065\n",
              "f               0.10847        0.0128973\n",
              "ur            0.0936107       0.00138185\n",
              "fr            0.0832095        0.0027637\n",
              "y             0.0802377        0.0690926\n",
              "...                 ...              ...\n",
              "big          0.00148588      0.000230309\n",
              "comp         0.00148588      0.000690926\n",
              "upd          0.00148588      0.000230309\n",
              "pa           0.00148588       0.00161216\n",
              "would        0.00148588      0.000921234\n",
              "\n",
              "[208 rows x 2 columns]"
            ]
          },
          "metadata": {
            "tags": []
          },
          "execution_count": 22
        }
      ]
    },
    {
      "cell_type": "markdown",
      "metadata": {
        "id": "yXSA1PdccUq8",
        "colab_type": "text"
      },
      "source": [
        "#Assignment\n",
        "\n",
        "1. Write a code to determine if a msg is spam or ham (2)\n",
        "               def check_msg(test_Msg):\n",
        "                ............\n",
        "                ..........\n",
        "2. Write a code to test all messages in test data and determine the following percentages (1)\n",
        "  * True positive rate\n",
        "  * True negative rate\n",
        "  * False positive rate\n",
        "  * False negative rate\n",
        "  * Accuracy\n",
        "  * Error_Rate"
      ]
    },
    {
      "cell_type": "code",
      "metadata": {
        "id": "4qUsTKFTIkUZ",
        "colab_type": "code",
        "colab": {}
      },
      "source": [
        "def check_msg(test_msg):\n",
        "  message_words=[]\n",
        "  for i in(test_msg.split()):\n",
        "    if i not in message_words:\n",
        "      message_words.append(i)\n",
        "  spam_prob=1\n",
        "  ham_prob=1\n",
        "  for i in message_words:\n",
        "    if (i in probability_Table.index):\n",
        "      spam_prob*=probability_Table.loc[i]['inSpamProbability']\n",
        "      ham_prob*=probability_Table.loc[i]['inHamProbability']\n",
        "  spam_prob=spam_prob*len(spam_Subset)\n",
        "  ham_prob=ham_prob*len(ham_Subset)\n",
        "  if(spam_prob>ham_prob):\n",
        "    return 'spam'\n",
        "  else:\n",
        "    return 'ham'"
      ],
      "execution_count": 0,
      "outputs": []
    },
    {
      "cell_type": "code",
      "metadata": {
        "id": "c7PLzrs4KzAM",
        "colab_type": "code",
        "colab": {}
      },
      "source": [
        "true_positive=0\n",
        "true_negative=0\n",
        "false_positive=0\n",
        "false_negative=0\n",
        "for i in test_Subset.index:\n",
        "  curr_message=test_Subset['sms'][i]\n",
        "  curr_label=test_Subset['label'][i]\n",
        "  prediction=check_msg(curr_message)\n",
        "  if(curr_label==prediction):\n",
        "    if(curr_label=='spam'):\n",
        "      true_positive+=1\n",
        "    else:\n",
        "      true_negative+=1\n",
        "  else:\n",
        "    if(curr_label=='spam'):\n",
        "      false_negative+=1\n",
        "    else:\n",
        "      false_positive+=1"
      ],
      "execution_count": 0,
      "outputs": []
    },
    {
      "cell_type": "code",
      "metadata": {
        "id": "um7jN2tmL_bI",
        "colab_type": "code",
        "colab": {
          "base_uri": "https://localhost:8080/",
          "height": 118
        },
        "outputId": "5e54fd71-20b6-4dd2-b093-82d61e8f1b11"
      },
      "source": [
        "true_positive_rate=true_positive/(true_positive+false_negative)*100\n",
        "true_negative_rate=true_negative/(true_negative+false_positive)*100\n",
        "false_positive_rate=false_positive/(true_negative+false_positive)*100\n",
        "false_negative_rate=false_negative/(true_positive+false_negative)*100\n",
        "accuracy=(true_positive+true_negative)/len(test_Subset)*100\n",
        "error_rate=100-accuracy\n",
        "print (\"True Positive Rate: {}\\nTrue Negative Rate: {}\\nFalse Positive Rate: {}\\nFalse Negative Rate: {}\\nAccuracy: {}\\nError Rate: {}\".format(true_positive_rate,true_negative_rate,false_positive_rate,false_negative_rate,accuracy,error_rate))"
      ],
      "execution_count": 40,
      "outputs": [
        {
          "output_type": "stream",
          "text": [
            "True Positive Rate: 85.13513513513513\n",
            "True Negative Rate: 77.22567287784679\n",
            "False Positive Rate: 22.77432712215321\n",
            "False Negative Rate: 14.864864864864865\n",
            "Accuracy: 78.27648114901257\n",
            "Error Rate: 21.723518850987432\n"
          ],
          "name": "stdout"
        }
      ]
    }
  ]
}
